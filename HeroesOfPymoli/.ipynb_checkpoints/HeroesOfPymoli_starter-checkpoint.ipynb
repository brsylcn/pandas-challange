{
 "cells": [
  {
   "cell_type": "markdown",
   "metadata": {},
   "source": [
    "# Note\n",
    "* Instructions have been included for each segment. You do not have to follow them exactly, but they are included to help you think through the steps."
   ]
  },
  {
   "cell_type": "markdown",
   "metadata": {},
   "source": [
    "### Observations\n",
    "\n",
    "1- Total number of players is 576 and 84.03% is male. Also male players are overwhelmed at purchasing data as well. Total purchase is 780 for 183 unique items and male players made 652 purchases which makes 83.5% of the whole purchase.\n",
    "\n",
    "2- The 20-24 age group purchases the most items and had the highest purchase amount of all age groups.\n",
    "\n",
    "3- The average price for all items is around $2.93, only players over 40 did not match with that average amoung the all ages, the rest spent above this average. If purchasing goal and the items' prices will match at that average, at least one item would be bought from the store."
   ]
  },
  {
   "cell_type": "code",
   "execution_count": 1,
   "metadata": {},
   "outputs": [
    {
     "data": {
      "text/html": [
       "<div>\n",
       "<style scoped>\n",
       "    .dataframe tbody tr th:only-of-type {\n",
       "        vertical-align: middle;\n",
       "    }\n",
       "\n",
       "    .dataframe tbody tr th {\n",
       "        vertical-align: top;\n",
       "    }\n",
       "\n",
       "    .dataframe thead th {\n",
       "        text-align: right;\n",
       "    }\n",
       "</style>\n",
       "<table border=\"1\" class=\"dataframe\">\n",
       "  <thead>\n",
       "    <tr style=\"text-align: right;\">\n",
       "      <th></th>\n",
       "      <th>Purchase ID</th>\n",
       "      <th>SN</th>\n",
       "      <th>Age</th>\n",
       "      <th>Gender</th>\n",
       "      <th>Item ID</th>\n",
       "      <th>Item Name</th>\n",
       "      <th>Price</th>\n",
       "    </tr>\n",
       "  </thead>\n",
       "  <tbody>\n",
       "    <tr>\n",
       "      <td>0</td>\n",
       "      <td>0</td>\n",
       "      <td>Lisim78</td>\n",
       "      <td>20</td>\n",
       "      <td>Male</td>\n",
       "      <td>108</td>\n",
       "      <td>Extraction, Quickblade Of Trembling Hands</td>\n",
       "      <td>3.53</td>\n",
       "    </tr>\n",
       "    <tr>\n",
       "      <td>1</td>\n",
       "      <td>1</td>\n",
       "      <td>Lisovynya38</td>\n",
       "      <td>40</td>\n",
       "      <td>Male</td>\n",
       "      <td>143</td>\n",
       "      <td>Frenzied Scimitar</td>\n",
       "      <td>1.56</td>\n",
       "    </tr>\n",
       "    <tr>\n",
       "      <td>2</td>\n",
       "      <td>2</td>\n",
       "      <td>Ithergue48</td>\n",
       "      <td>24</td>\n",
       "      <td>Male</td>\n",
       "      <td>92</td>\n",
       "      <td>Final Critic</td>\n",
       "      <td>4.88</td>\n",
       "    </tr>\n",
       "    <tr>\n",
       "      <td>3</td>\n",
       "      <td>3</td>\n",
       "      <td>Chamassasya86</td>\n",
       "      <td>24</td>\n",
       "      <td>Male</td>\n",
       "      <td>100</td>\n",
       "      <td>Blindscythe</td>\n",
       "      <td>3.27</td>\n",
       "    </tr>\n",
       "    <tr>\n",
       "      <td>4</td>\n",
       "      <td>4</td>\n",
       "      <td>Iskosia90</td>\n",
       "      <td>23</td>\n",
       "      <td>Male</td>\n",
       "      <td>131</td>\n",
       "      <td>Fury</td>\n",
       "      <td>1.44</td>\n",
       "    </tr>\n",
       "  </tbody>\n",
       "</table>\n",
       "</div>"
      ],
      "text/plain": [
       "   Purchase ID             SN  Age Gender  Item ID  \\\n",
       "0            0        Lisim78   20   Male      108   \n",
       "1            1    Lisovynya38   40   Male      143   \n",
       "2            2     Ithergue48   24   Male       92   \n",
       "3            3  Chamassasya86   24   Male      100   \n",
       "4            4      Iskosia90   23   Male      131   \n",
       "\n",
       "                                   Item Name  Price  \n",
       "0  Extraction, Quickblade Of Trembling Hands   3.53  \n",
       "1                          Frenzied Scimitar   1.56  \n",
       "2                               Final Critic   4.88  \n",
       "3                                Blindscythe   3.27  \n",
       "4                                       Fury   1.44  "
      ]
     },
     "execution_count": 1,
     "metadata": {},
     "output_type": "execute_result"
    }
   ],
   "source": [
    "# Dependencies and Setup\n",
    "import pandas as pd\n",
    "import numpy as np\n",
    "\n",
    "\n",
    "# File to Load (Remember to Change These)\n",
    "file_to_load = \"Resources/purchase_data.csv\"\n",
    "\n",
    "# Read Purchasing File and store into Pandas data frame\n",
    "purchase_data = pd.read_csv(file_to_load)\n",
    "\n",
    "purchase_data.head()"
   ]
  },
  {
   "cell_type": "markdown",
   "metadata": {},
   "source": [
    "## Player Count"
   ]
  },
  {
   "cell_type": "markdown",
   "metadata": {},
   "source": [
    "* Display the total number of players\n"
   ]
  },
  {
   "cell_type": "code",
   "execution_count": 2,
   "metadata": {
    "scrolled": false
   },
   "outputs": [
    {
     "data": {
      "text/html": [
       "<div>\n",
       "<style scoped>\n",
       "    .dataframe tbody tr th:only-of-type {\n",
       "        vertical-align: middle;\n",
       "    }\n",
       "\n",
       "    .dataframe tbody tr th {\n",
       "        vertical-align: top;\n",
       "    }\n",
       "\n",
       "    .dataframe thead th {\n",
       "        text-align: right;\n",
       "    }\n",
       "</style>\n",
       "<table border=\"1\" class=\"dataframe\">\n",
       "  <thead>\n",
       "    <tr style=\"text-align: right;\">\n",
       "      <th></th>\n",
       "      <th>Total Players</th>\n",
       "    </tr>\n",
       "  </thead>\n",
       "  <tbody>\n",
       "    <tr>\n",
       "      <td>0</td>\n",
       "      <td>576</td>\n",
       "    </tr>\n",
       "  </tbody>\n",
       "</table>\n",
       "</div>"
      ],
      "text/plain": [
       "   Total Players\n",
       "0            576"
      ]
     },
     "execution_count": 2,
     "metadata": {},
     "output_type": "execute_result"
    }
   ],
   "source": [
    "total_players = len(purchase_data['SN'].unique())\n",
    "\n",
    "total_players_df = pd.DataFrame({\"Total Players\": [total_players]})\n",
    "\n",
    "total_players_df"
   ]
  },
  {
   "cell_type": "markdown",
   "metadata": {},
   "source": [
    "## Purchasing Analysis (Total)"
   ]
  },
  {
   "cell_type": "markdown",
   "metadata": {},
   "source": [
    "* Run basic calculations to obtain number of unique items, average price, etc.\n",
    "\n",
    "\n",
    "* Create a summary data frame to hold the results\n",
    "\n",
    "\n",
    "* Optional: give the displayed data cleaner formatting\n",
    "\n",
    "\n",
    "* Display the summary data frame\n"
   ]
  },
  {
   "cell_type": "code",
   "execution_count": 3,
   "metadata": {
    "scrolled": false
   },
   "outputs": [
    {
     "data": {
      "text/html": [
       "<div>\n",
       "<style scoped>\n",
       "    .dataframe tbody tr th:only-of-type {\n",
       "        vertical-align: middle;\n",
       "    }\n",
       "\n",
       "    .dataframe tbody tr th {\n",
       "        vertical-align: top;\n",
       "    }\n",
       "\n",
       "    .dataframe thead th {\n",
       "        text-align: right;\n",
       "    }\n",
       "</style>\n",
       "<table border=\"1\" class=\"dataframe\">\n",
       "  <thead>\n",
       "    <tr style=\"text-align: right;\">\n",
       "      <th></th>\n",
       "      <th>Number of Uniquie Items</th>\n",
       "      <th>Avarage Price</th>\n",
       "      <th>Number of Purchases</th>\n",
       "      <th>Total Revenue</th>\n",
       "    </tr>\n",
       "  </thead>\n",
       "  <tbody>\n",
       "    <tr>\n",
       "      <td>0</td>\n",
       "      <td>183</td>\n",
       "      <td>$3.05</td>\n",
       "      <td>780</td>\n",
       "      <td>$2,379.77</td>\n",
       "    </tr>\n",
       "  </tbody>\n",
       "</table>\n",
       "</div>"
      ],
      "text/plain": [
       "   Number of Uniquie Items Avarage Price  Number of Purchases Total Revenue\n",
       "0                      183         $3.05                  780     $2,379.77"
      ]
     },
     "execution_count": 3,
     "metadata": {},
     "output_type": "execute_result"
    }
   ],
   "source": [
    "number_unique_items = len(purchase_data['Item ID'].unique())\n",
    "\n",
    "number_purchases = len(purchase_data['SN'])\n",
    "\n",
    "total_reve = sum(purchase_data['Price'])\n",
    "\n",
    "avarage = sum(purchase_data['Price'])/len(purchase_data['SN'])\n",
    "\n",
    "\n",
    "summary_table = pd.DataFrame({\"Number of Uniquie Items\": [number_unique_items],\n",
    "                              \"Avarage Price\": [avarage],\n",
    "                              \"Number of Purchases\": [number_purchases],\n",
    "                              \"Total Revenue\": [total_reve]})\n",
    "\n",
    "#summary_table['Total Revenue'] = '$' + (summary_table['Total Revenue'].astype(int)).astype(str)\n",
    "#summary_table['Avarage Price'] = '$' + (summary_table['Avarage Price'].astype(float)).astype(str)\n",
    "\n",
    "summary_table['Total Revenue'] = (summary_table['Total Revenue']).apply(lambda x: '${:,.2f}'.format(x))\n",
    "summary_table['Avarage Price'] = (summary_table['Avarage Price']).apply(lambda x: '${:,.2f}'.format(x))\n",
    "\n",
    "\n",
    "summary_table"
   ]
  },
  {
   "cell_type": "markdown",
   "metadata": {},
   "source": [
    "## Gender Demographics"
   ]
  },
  {
   "cell_type": "markdown",
   "metadata": {},
   "source": [
    "* Percentage and Count of Male Players\n",
    "\n",
    "\n",
    "* Percentage and Count of Female Players\n",
    "\n",
    "\n",
    "* Percentage and Count of Other / Non-Disclosed\n",
    "\n",
    "\n"
   ]
  },
  {
   "cell_type": "code",
   "execution_count": 4,
   "metadata": {
    "scrolled": false
   },
   "outputs": [
    {
     "data": {
      "text/html": [
       "<div>\n",
       "<style scoped>\n",
       "    .dataframe tbody tr th:only-of-type {\n",
       "        vertical-align: middle;\n",
       "    }\n",
       "\n",
       "    .dataframe tbody tr th {\n",
       "        vertical-align: top;\n",
       "    }\n",
       "\n",
       "    .dataframe thead th {\n",
       "        text-align: right;\n",
       "    }\n",
       "</style>\n",
       "<table border=\"1\" class=\"dataframe\">\n",
       "  <thead>\n",
       "    <tr style=\"text-align: right;\">\n",
       "      <th></th>\n",
       "      <th>Total Count</th>\n",
       "      <th>Percentage of Players</th>\n",
       "    </tr>\n",
       "    <tr>\n",
       "      <th></th>\n",
       "      <th></th>\n",
       "      <th></th>\n",
       "    </tr>\n",
       "  </thead>\n",
       "  <tbody>\n",
       "    <tr>\n",
       "      <td>Male</td>\n",
       "      <td>484</td>\n",
       "      <td>84.03%</td>\n",
       "    </tr>\n",
       "    <tr>\n",
       "      <td>Female</td>\n",
       "      <td>81</td>\n",
       "      <td>14.06%</td>\n",
       "    </tr>\n",
       "    <tr>\n",
       "      <td>Other/Non-Disclosed</td>\n",
       "      <td>11</td>\n",
       "      <td>1.91%</td>\n",
       "    </tr>\n",
       "  </tbody>\n",
       "</table>\n",
       "</div>"
      ],
      "text/plain": [
       "                     Total Count Percentage of Players\n",
       "                                                      \n",
       "Male                         484                84.03%\n",
       "Female                        81                14.06%\n",
       "Other/Non-Disclosed           11                 1.91%"
      ]
     },
     "execution_count": 4,
     "metadata": {},
     "output_type": "execute_result"
    }
   ],
   "source": [
    "male = purchase_data.loc[purchase_data['Gender'] == 'Male',:]\n",
    "\n",
    "total_male = len(male[\"SN\"].unique())\n",
    "\n",
    "female = purchase_data.loc[purchase_data['Gender'] == 'Female' ,:]\n",
    "\n",
    "total_female = len(female['SN'].unique())\n",
    "\n",
    "other = purchase_data.loc[purchase_data['Gender'] == 'Other / Non-Disclosed' ,:]\n",
    "\n",
    "total_other = len(other['SN'].unique())\n",
    "\n",
    "#----------------------------------------------------------------------#\n",
    "\n",
    "total = total_male + total_female + total_other\n",
    "\n",
    "#----------------------------------------------------------------------#\n",
    "\n",
    "percentage_male = (total_male/total) * 100\n",
    "\n",
    "percentage_female = (total_female/total) * 100\n",
    "\n",
    "percentage_other = (total_other/total) * 100\n",
    "\n",
    "#----------------------------------------------------------------------#\n",
    "\n",
    "demo_gen = pd.DataFrame({\"\": ['Male', 'Female', 'Other/Non-Disclosed'],\n",
    "                            \"Total Count\": [total_male, total_female, total_other],     \n",
    "                             \"Percentage of Players\": [percentage_male, percentage_female, percentage_other]})\n",
    "\n",
    "\n",
    "demo_gen[\"Percentage of Players\"] = demo_gen[\"Percentage of Players\"].map(\"{:.2f}%\".format)\n",
    "\n",
    "demo_gen = demo_gen.set_index('')\n",
    "\n",
    "demo_gen"
   ]
  },
  {
   "cell_type": "markdown",
   "metadata": {},
   "source": [
    "##Purchasing Analysis (Gender)"
   ]
  },
  {
   "cell_type": "markdown",
   "metadata": {},
   "source": [
    "* Run basic calculations to obtain purchase count, avg. purchase price, avg. purchase total per person etc. by gender\n",
    "\n",
    "\n",
    "\n",
    "\n",
    "* Create a summary data frame to hold the results\n",
    "\n",
    "\n",
    "* Optional: give the displayed data cleaner formatting\n",
    "\n",
    "\n",
    "* Display the summary data frame"
   ]
  },
  {
   "cell_type": "code",
   "execution_count": 5,
   "metadata": {},
   "outputs": [
    {
     "data": {
      "text/html": [
       "<div>\n",
       "<style scoped>\n",
       "    .dataframe tbody tr th:only-of-type {\n",
       "        vertical-align: middle;\n",
       "    }\n",
       "\n",
       "    .dataframe tbody tr th {\n",
       "        vertical-align: top;\n",
       "    }\n",
       "\n",
       "    .dataframe thead th {\n",
       "        text-align: right;\n",
       "    }\n",
       "</style>\n",
       "<table border=\"1\" class=\"dataframe\">\n",
       "  <thead>\n",
       "    <tr style=\"text-align: right;\">\n",
       "      <th></th>\n",
       "      <th>Purchase Count</th>\n",
       "      <th>Avarage Purchase Price</th>\n",
       "      <th>Total Purchase Value</th>\n",
       "      <th>Avg Total Purchase per Person</th>\n",
       "    </tr>\n",
       "    <tr>\n",
       "      <th></th>\n",
       "      <th></th>\n",
       "      <th></th>\n",
       "      <th></th>\n",
       "      <th></th>\n",
       "    </tr>\n",
       "  </thead>\n",
       "  <tbody>\n",
       "    <tr>\n",
       "      <td>Male</td>\n",
       "      <td>652</td>\n",
       "      <td>$3.02</td>\n",
       "      <td>$1,967.64</td>\n",
       "      <td>$4.07</td>\n",
       "    </tr>\n",
       "    <tr>\n",
       "      <td>Female</td>\n",
       "      <td>113</td>\n",
       "      <td>$3.20</td>\n",
       "      <td>$361.94</td>\n",
       "      <td>$4.47</td>\n",
       "    </tr>\n",
       "    <tr>\n",
       "      <td>Other/Non-Disclosed</td>\n",
       "      <td>15</td>\n",
       "      <td>$3.35</td>\n",
       "      <td>$50.19</td>\n",
       "      <td>$4.56</td>\n",
       "    </tr>\n",
       "  </tbody>\n",
       "</table>\n",
       "</div>"
      ],
      "text/plain": [
       "                     Purchase Count Avarage Purchase Price  \\\n",
       "                                                             \n",
       "Male                            652                  $3.02   \n",
       "Female                          113                  $3.20   \n",
       "Other/Non-Disclosed              15                  $3.35   \n",
       "\n",
       "                    Total Purchase Value Avg Total Purchase per Person  \n",
       "                                                                        \n",
       "Male                           $1,967.64                         $4.07  \n",
       "Female                           $361.94                         $4.47  \n",
       "Other/Non-Disclosed               $50.19                         $4.56  "
      ]
     },
     "execution_count": 5,
     "metadata": {},
     "output_type": "execute_result"
    }
   ],
   "source": [
    "male_pur = purchase_data.loc[purchase_data['Gender'] == 'Male',:]\n",
    "\n",
    "t_male_pur = len(male[\"Item Name\"]) #-----> Purchase count\n",
    "\n",
    "female_pur = purchase_data.loc[purchase_data['Gender'] == 'Female',:]\n",
    "\n",
    "t_female_pur = len(female[\"Item Name\"]) #-----> Purchase count\n",
    "\n",
    "other_pur = purchase_data.loc[purchase_data['Gender'] == 'Other / Non-Disclosed',:]\n",
    "\n",
    "t_other_pur = len(other[\"Item Name\"]) #-----> Purchase count\n",
    "\n",
    "#-------------------------------------------------------------------#\n",
    "\n",
    "total_pur = t_male_pur + t_female_pur + t_other_pur\n",
    "\n",
    "#-------------------------------------------------------------------#\n",
    "\n",
    "male_avr = purchase_data.loc[purchase_data['Gender'] == 'Male',:]\n",
    "\n",
    "t_male_avr = sum(male[\"Price\"]) #-----> Total purchase value\n",
    "\n",
    "avarage_p_male = sum(male[\"Price\"]) / len(male[\"Item Name\"])\n",
    "\n",
    "#-------------------------------------------------------------------#\n",
    "\n",
    "female_avr = purchase_data.loc[purchase_data['Gender'] == 'Female',:]\n",
    "\n",
    "t_female_avr = sum(female[\"Price\"]) #-----> Total purchase value\n",
    "\n",
    "avarage_p_female = sum(female[\"Price\"]) / len(female[\"Item Name\"])\n",
    "\n",
    "#-------------------------------------------------------------------#\n",
    "\n",
    "other_avr = purchase_data.loc[purchase_data['Gender'] == 'Other / Non-Disclosed',:]\n",
    "\n",
    "t_other_avr = sum(other[\"Price\"]) #-----> Total purchase value\n",
    "\n",
    "avarage_p_other = sum(other[\"Price\"]) / len(other[\"Item Name\"])\n",
    "\n",
    "#--------------------------------------------------------------------#\n",
    "\n",
    "# Avg Total Purchase per Person\n",
    "\n",
    "per_avrg_male = t_male_avr / total_male\n",
    "\n",
    "per_avrg_female = t_female_avr / total_female\n",
    "\n",
    "per_avrg_other = t_other_avr / total_other\n",
    "\n",
    "#--------------------------------------------------------------------#\n",
    "\n",
    "purch_ana = pd.DataFrame({\"\": ['Male', 'Female', 'Other/Non-Disclosed'],\n",
    "                            \"Purchase Count\": [t_male_pur, t_female_pur, t_other_pur],     \n",
    "                             \"Avarage Purchase Price\": [avarage_p_male, avarage_p_female, avarage_p_other],\n",
    "                             \"Total Purchase Value\": [t_male_avr, t_female_avr, t_other_avr],\n",
    "                              \"Avg Total Purchase per Person\": [per_avrg_male, per_avrg_female, per_avrg_other]})\n",
    "\n",
    "\n",
    "#purch_ana[\"Avarage Purchase Price\"] = demo_gen[\"Avarage Purchase Price\"].map(\"${:.2f}\".format)\n",
    "#purch_ana[\"Total Purchase Value\"] = demo_gen[\"Total Purchase Value\"].map(\"${:.2f}\".format)\n",
    "#purch_ana[\"Avg Total Purchase per Person\"] = demo_gen[\"Avg Total Purchase per Person\"].map(\"${:.2f}\".format)\n",
    "\n",
    "purch_ana['Avarage Purchase Price'] = (purch_ana['Avarage Purchase Price']).apply(lambda x: '${:,.2f}'.format(x))\n",
    "purch_ana['Total Purchase Value'] = (purch_ana['Total Purchase Value']).apply(lambda x: '${:,.2f}'.format(x))\n",
    "purch_ana['Avg Total Purchase per Person'] = (purch_ana['Avg Total Purchase per Person']).apply(lambda x: '${:,.2f}'.format(x))\n",
    "\n",
    "purch_ana = purch_ana.set_index('')\n",
    "\n",
    "purch_ana"
   ]
  },
  {
   "cell_type": "markdown",
   "metadata": {},
   "source": [
    "## Age Demographics"
   ]
  },
  {
   "cell_type": "markdown",
   "metadata": {},
   "source": [
    "* Establish bins for ages\n",
    "\n",
    "\n",
    "* Categorize the existing players using the age bins. Hint: use pd.cut()\n",
    "\n",
    "\n",
    "* Calculate the numbers and percentages by age group\n",
    "\n",
    "\n",
    "* Create a summary data frame to hold the results\n",
    "\n",
    "\n",
    "* Optional: round the percentage column to two decimal points\n",
    "\n",
    "\n",
    "* Display Age Demographics Table\n"
   ]
  },
  {
   "cell_type": "code",
   "execution_count": 6,
   "metadata": {
    "scrolled": true
   },
   "outputs": [
    {
     "data": {
      "text/html": [
       "<style  type=\"text/css\" >\n",
       "</style><table id=\"T_8d67c5a6_2743_11ea_a460_dcfb481d3eb7\" ><thead>    <tr>        <th class=\"blank level0\" ></th>        <th class=\"col_heading level0 col0\" >Total Count</th>        <th class=\"col_heading level0 col1\" >Percentage of Players</th>    </tr></thead><tbody>\n",
       "                <tr>\n",
       "                        <th id=\"T_8d67c5a6_2743_11ea_a460_dcfb481d3eb7level0_row0\" class=\"row_heading level0 row0\" ><10</th>\n",
       "                        <td id=\"T_8d67c5a6_2743_11ea_a460_dcfb481d3eb7row0_col0\" class=\"data row0 col0\" >17</td>\n",
       "                        <td id=\"T_8d67c5a6_2743_11ea_a460_dcfb481d3eb7row0_col1\" class=\"data row0 col1\" >2.95%</td>\n",
       "            </tr>\n",
       "            <tr>\n",
       "                        <th id=\"T_8d67c5a6_2743_11ea_a460_dcfb481d3eb7level0_row1\" class=\"row_heading level0 row1\" >10-14</th>\n",
       "                        <td id=\"T_8d67c5a6_2743_11ea_a460_dcfb481d3eb7row1_col0\" class=\"data row1 col0\" >22</td>\n",
       "                        <td id=\"T_8d67c5a6_2743_11ea_a460_dcfb481d3eb7row1_col1\" class=\"data row1 col1\" >3.82%</td>\n",
       "            </tr>\n",
       "            <tr>\n",
       "                        <th id=\"T_8d67c5a6_2743_11ea_a460_dcfb481d3eb7level0_row2\" class=\"row_heading level0 row2\" >15-19</th>\n",
       "                        <td id=\"T_8d67c5a6_2743_11ea_a460_dcfb481d3eb7row2_col0\" class=\"data row2 col0\" >107</td>\n",
       "                        <td id=\"T_8d67c5a6_2743_11ea_a460_dcfb481d3eb7row2_col1\" class=\"data row2 col1\" >18.58%</td>\n",
       "            </tr>\n",
       "            <tr>\n",
       "                        <th id=\"T_8d67c5a6_2743_11ea_a460_dcfb481d3eb7level0_row3\" class=\"row_heading level0 row3\" >20-24</th>\n",
       "                        <td id=\"T_8d67c5a6_2743_11ea_a460_dcfb481d3eb7row3_col0\" class=\"data row3 col0\" >258</td>\n",
       "                        <td id=\"T_8d67c5a6_2743_11ea_a460_dcfb481d3eb7row3_col1\" class=\"data row3 col1\" >44.79%</td>\n",
       "            </tr>\n",
       "            <tr>\n",
       "                        <th id=\"T_8d67c5a6_2743_11ea_a460_dcfb481d3eb7level0_row4\" class=\"row_heading level0 row4\" >25-29</th>\n",
       "                        <td id=\"T_8d67c5a6_2743_11ea_a460_dcfb481d3eb7row4_col0\" class=\"data row4 col0\" >77</td>\n",
       "                        <td id=\"T_8d67c5a6_2743_11ea_a460_dcfb481d3eb7row4_col1\" class=\"data row4 col1\" >13.37%</td>\n",
       "            </tr>\n",
       "            <tr>\n",
       "                        <th id=\"T_8d67c5a6_2743_11ea_a460_dcfb481d3eb7level0_row5\" class=\"row_heading level0 row5\" >30-34</th>\n",
       "                        <td id=\"T_8d67c5a6_2743_11ea_a460_dcfb481d3eb7row5_col0\" class=\"data row5 col0\" >52</td>\n",
       "                        <td id=\"T_8d67c5a6_2743_11ea_a460_dcfb481d3eb7row5_col1\" class=\"data row5 col1\" >9.03%</td>\n",
       "            </tr>\n",
       "            <tr>\n",
       "                        <th id=\"T_8d67c5a6_2743_11ea_a460_dcfb481d3eb7level0_row6\" class=\"row_heading level0 row6\" >35-39</th>\n",
       "                        <td id=\"T_8d67c5a6_2743_11ea_a460_dcfb481d3eb7row6_col0\" class=\"data row6 col0\" >31</td>\n",
       "                        <td id=\"T_8d67c5a6_2743_11ea_a460_dcfb481d3eb7row6_col1\" class=\"data row6 col1\" >5.38%</td>\n",
       "            </tr>\n",
       "            <tr>\n",
       "                        <th id=\"T_8d67c5a6_2743_11ea_a460_dcfb481d3eb7level0_row7\" class=\"row_heading level0 row7\" >40+</th>\n",
       "                        <td id=\"T_8d67c5a6_2743_11ea_a460_dcfb481d3eb7row7_col0\" class=\"data row7 col0\" >12</td>\n",
       "                        <td id=\"T_8d67c5a6_2743_11ea_a460_dcfb481d3eb7row7_col1\" class=\"data row7 col1\" >2.08%</td>\n",
       "            </tr>\n",
       "    </tbody></table>"
      ],
      "text/plain": [
       "<pandas.io.formats.style.Styler at 0x1e7369de408>"
      ]
     },
     "execution_count": 6,
     "metadata": {},
     "output_type": "execute_result"
    }
   ],
   "source": [
    "age_bins = [0, 9.90, 14.90, 19.90, 24.90, 29.90, 34.90, 39.90, 99999]\n",
    "\n",
    "group_names = [\"<10\", \"10-14\", \"15-19\", \"20-24\", \"25-29\", \"30-34\", \"35-39\", \"40+\"]\n",
    "\n",
    "purchase_data[\"Age Group\"] = pd.cut(purchase_data[\"Age\"], age_bins, labels=group_names)\n",
    "\n",
    "purchase_data\n",
    "\n",
    "age_grouped = purchase_data.groupby(\"Age Group\")\n",
    "\n",
    "t_count_age = age_grouped[\"SN\"].nunique()\n",
    "\n",
    "percantage_by_age = (t_count_age/total_players) * 100\n",
    "\n",
    "demo_age = pd.DataFrame({\"Total Count\": t_count_age, \"Percentage of Players\": percantage_by_age})\n",
    "\n",
    "demo_age.index.name = None\n",
    "\n",
    "demo_age.style.format({\"Percentage of Players\":\"{:,.2f}%\"})"
   ]
  },
  {
   "cell_type": "markdown",
   "metadata": {},
   "source": [
    "## Purchasing Analysis (Age)"
   ]
  },
  {
   "cell_type": "markdown",
   "metadata": {},
   "source": [
    "* Bin the purchase_data data frame by age\n",
    "\n",
    "\n",
    "* Run basic calculations to obtain purchase count, avg. purchase price, avg. purchase total per person etc. in the table below\n",
    "\n",
    "\n",
    "* Create a summary data frame to hold the results\n",
    "\n",
    "\n",
    "* Optional: give the displayed data cleaner formatting\n",
    "\n",
    "\n",
    "* Display the summary data frame"
   ]
  },
  {
   "cell_type": "code",
   "execution_count": 16,
   "metadata": {},
   "outputs": [
    {
     "data": {
      "text/html": [
       "<style  type=\"text/css\" >\n",
       "</style><table id=\"T_bcd106d2_2744_11ea_be48_dcfb481d3eb7\" ><thead>    <tr>        <th class=\"blank level0\" ></th>        <th class=\"col_heading level0 col0\" >Purchase Count</th>        <th class=\"col_heading level0 col1\" >Average Purchase Price</th>        <th class=\"col_heading level0 col2\" >Total Purchase Value</th>        <th class=\"col_heading level0 col3\" >Average Purchase Total per Person</th>    </tr>    <tr>        <th class=\"index_name level0\" >Age Ranges</th>        <th class=\"blank\" ></th>        <th class=\"blank\" ></th>        <th class=\"blank\" ></th>        <th class=\"blank\" ></th>    </tr></thead><tbody>\n",
       "                <tr>\n",
       "                        <th id=\"T_bcd106d2_2744_11ea_be48_dcfb481d3eb7level0_row0\" class=\"row_heading level0 row0\" ><10</th>\n",
       "                        <td id=\"T_bcd106d2_2744_11ea_be48_dcfb481d3eb7row0_col0\" class=\"data row0 col0\" >23</td>\n",
       "                        <td id=\"T_bcd106d2_2744_11ea_be48_dcfb481d3eb7row0_col1\" class=\"data row0 col1\" >$3.35</td>\n",
       "                        <td id=\"T_bcd106d2_2744_11ea_be48_dcfb481d3eb7row0_col2\" class=\"data row0 col2\" >$77.13</td>\n",
       "                        <td id=\"T_bcd106d2_2744_11ea_be48_dcfb481d3eb7row0_col3\" class=\"data row0 col3\" >$4.54</td>\n",
       "            </tr>\n",
       "            <tr>\n",
       "                        <th id=\"T_bcd106d2_2744_11ea_be48_dcfb481d3eb7level0_row1\" class=\"row_heading level0 row1\" >10-14</th>\n",
       "                        <td id=\"T_bcd106d2_2744_11ea_be48_dcfb481d3eb7row1_col0\" class=\"data row1 col0\" >28</td>\n",
       "                        <td id=\"T_bcd106d2_2744_11ea_be48_dcfb481d3eb7row1_col1\" class=\"data row1 col1\" >$2.96</td>\n",
       "                        <td id=\"T_bcd106d2_2744_11ea_be48_dcfb481d3eb7row1_col2\" class=\"data row1 col2\" >$82.78</td>\n",
       "                        <td id=\"T_bcd106d2_2744_11ea_be48_dcfb481d3eb7row1_col3\" class=\"data row1 col3\" >$3.76</td>\n",
       "            </tr>\n",
       "            <tr>\n",
       "                        <th id=\"T_bcd106d2_2744_11ea_be48_dcfb481d3eb7level0_row2\" class=\"row_heading level0 row2\" >15-19</th>\n",
       "                        <td id=\"T_bcd106d2_2744_11ea_be48_dcfb481d3eb7row2_col0\" class=\"data row2 col0\" >136</td>\n",
       "                        <td id=\"T_bcd106d2_2744_11ea_be48_dcfb481d3eb7row2_col1\" class=\"data row2 col1\" >$3.04</td>\n",
       "                        <td id=\"T_bcd106d2_2744_11ea_be48_dcfb481d3eb7row2_col2\" class=\"data row2 col2\" >$412.89</td>\n",
       "                        <td id=\"T_bcd106d2_2744_11ea_be48_dcfb481d3eb7row2_col3\" class=\"data row2 col3\" >$3.86</td>\n",
       "            </tr>\n",
       "            <tr>\n",
       "                        <th id=\"T_bcd106d2_2744_11ea_be48_dcfb481d3eb7level0_row3\" class=\"row_heading level0 row3\" >20-24</th>\n",
       "                        <td id=\"T_bcd106d2_2744_11ea_be48_dcfb481d3eb7row3_col0\" class=\"data row3 col0\" >365</td>\n",
       "                        <td id=\"T_bcd106d2_2744_11ea_be48_dcfb481d3eb7row3_col1\" class=\"data row3 col1\" >$3.05</td>\n",
       "                        <td id=\"T_bcd106d2_2744_11ea_be48_dcfb481d3eb7row3_col2\" class=\"data row3 col2\" >$1,114.06</td>\n",
       "                        <td id=\"T_bcd106d2_2744_11ea_be48_dcfb481d3eb7row3_col3\" class=\"data row3 col3\" >$4.32</td>\n",
       "            </tr>\n",
       "            <tr>\n",
       "                        <th id=\"T_bcd106d2_2744_11ea_be48_dcfb481d3eb7level0_row4\" class=\"row_heading level0 row4\" >25-29</th>\n",
       "                        <td id=\"T_bcd106d2_2744_11ea_be48_dcfb481d3eb7row4_col0\" class=\"data row4 col0\" >101</td>\n",
       "                        <td id=\"T_bcd106d2_2744_11ea_be48_dcfb481d3eb7row4_col1\" class=\"data row4 col1\" >$2.90</td>\n",
       "                        <td id=\"T_bcd106d2_2744_11ea_be48_dcfb481d3eb7row4_col2\" class=\"data row4 col2\" >$293.00</td>\n",
       "                        <td id=\"T_bcd106d2_2744_11ea_be48_dcfb481d3eb7row4_col3\" class=\"data row4 col3\" >$3.81</td>\n",
       "            </tr>\n",
       "            <tr>\n",
       "                        <th id=\"T_bcd106d2_2744_11ea_be48_dcfb481d3eb7level0_row5\" class=\"row_heading level0 row5\" >30-34</th>\n",
       "                        <td id=\"T_bcd106d2_2744_11ea_be48_dcfb481d3eb7row5_col0\" class=\"data row5 col0\" >73</td>\n",
       "                        <td id=\"T_bcd106d2_2744_11ea_be48_dcfb481d3eb7row5_col1\" class=\"data row5 col1\" >$2.93</td>\n",
       "                        <td id=\"T_bcd106d2_2744_11ea_be48_dcfb481d3eb7row5_col2\" class=\"data row5 col2\" >$214.00</td>\n",
       "                        <td id=\"T_bcd106d2_2744_11ea_be48_dcfb481d3eb7row5_col3\" class=\"data row5 col3\" >$4.12</td>\n",
       "            </tr>\n",
       "            <tr>\n",
       "                        <th id=\"T_bcd106d2_2744_11ea_be48_dcfb481d3eb7level0_row6\" class=\"row_heading level0 row6\" >35-39</th>\n",
       "                        <td id=\"T_bcd106d2_2744_11ea_be48_dcfb481d3eb7row6_col0\" class=\"data row6 col0\" >41</td>\n",
       "                        <td id=\"T_bcd106d2_2744_11ea_be48_dcfb481d3eb7row6_col1\" class=\"data row6 col1\" >$3.60</td>\n",
       "                        <td id=\"T_bcd106d2_2744_11ea_be48_dcfb481d3eb7row6_col2\" class=\"data row6 col2\" >$147.67</td>\n",
       "                        <td id=\"T_bcd106d2_2744_11ea_be48_dcfb481d3eb7row6_col3\" class=\"data row6 col3\" >$4.76</td>\n",
       "            </tr>\n",
       "            <tr>\n",
       "                        <th id=\"T_bcd106d2_2744_11ea_be48_dcfb481d3eb7level0_row7\" class=\"row_heading level0 row7\" >40+</th>\n",
       "                        <td id=\"T_bcd106d2_2744_11ea_be48_dcfb481d3eb7row7_col0\" class=\"data row7 col0\" >13</td>\n",
       "                        <td id=\"T_bcd106d2_2744_11ea_be48_dcfb481d3eb7row7_col1\" class=\"data row7 col1\" >$2.94</td>\n",
       "                        <td id=\"T_bcd106d2_2744_11ea_be48_dcfb481d3eb7row7_col2\" class=\"data row7 col2\" >$38.24</td>\n",
       "                        <td id=\"T_bcd106d2_2744_11ea_be48_dcfb481d3eb7row7_col3\" class=\"data row7 col3\" >$3.19</td>\n",
       "            </tr>\n",
       "    </tbody></table>"
      ],
      "text/plain": [
       "<pandas.io.formats.style.Styler at 0x1e73725a388>"
      ]
     },
     "execution_count": 16,
     "metadata": {},
     "output_type": "execute_result"
    }
   ],
   "source": [
    "age_bins = [0, 9.90, 14.90, 19.90, 24.90, 29.90, 34.90, 39.90, 99999]\n",
    "\n",
    "group_names = [\"<10\", \"10-14\", \"15-19\", \"20-24\", \"25-29\", \"30-34\", \"35-39\", \"40+\"]\n",
    "\n",
    "purchase_data[\"Age Ranges\"] = pd.cut(purchase_data[\"Age\"], age_bins, labels=group_names)\n",
    "\n",
    "age_ranges = purchase_data.groupby(['Age Ranges'])\n",
    "\n",
    "purchase_count = age_ranges[\"Purchase ID\"].count()\n",
    "\n",
    "avg_p_pr = age_ranges[\"Price\"].mean()\n",
    "\n",
    "total_pur = age_ranges[\"Price\"].sum()\n",
    "\n",
    "avg_per_person = total_pur/t_count_age\n",
    "\n",
    "demo_age = pd.DataFrame({\"Purchase Count\": purchase_count,\n",
    "                                 \"Average Purchase Price\": avg_p_pr,\n",
    "                                 \"Total Purchase Value\":total_pur,\n",
    "                                 \"Average Purchase Total per Person\": avg_per_person})\n",
    "\n",
    "#demo_age.index.name = None\n",
    "\n",
    "demo_age.style.format({\"Average Purchase Price\":\"${:,.2f}\",\n",
    "                               \"Total Purchase Value\":\"${:,.2f}\",\n",
    "                               \"Average Purchase Total per Person\":\"${:,.2f}\"})"
   ]
  },
  {
   "cell_type": "markdown",
   "metadata": {},
   "source": [
    "## Top Spenders"
   ]
  },
  {
   "cell_type": "markdown",
   "metadata": {},
   "source": [
    "* Run basic calculations to obtain the results in the table below\n",
    "\n",
    "\n",
    "* Create a summary data frame to hold the results\n",
    "\n",
    "\n",
    "* Sort the total purchase value column in descending order\n",
    "\n",
    "\n",
    "* Optional: give the displayed data cleaner formatting\n",
    "\n",
    "\n",
    "* Display a preview of the summary data frame\n",
    "\n"
   ]
  },
  {
   "cell_type": "code",
   "execution_count": 13,
   "metadata": {},
   "outputs": [
    {
     "data": {
      "text/html": [
       "<style  type=\"text/css\" >\n",
       "</style><table id=\"T_8f73c908_2744_11ea_9d0a_dcfb481d3eb7\" ><thead>    <tr>        <th class=\"blank level0\" ></th>        <th class=\"col_heading level0 col0\" >Purchase Count</th>        <th class=\"col_heading level0 col1\" >Average Purchase Price</th>        <th class=\"col_heading level0 col2\" >Total Purchase Value</th>    </tr>    <tr>        <th class=\"index_name level0\" >SN</th>        <th class=\"blank\" ></th>        <th class=\"blank\" ></th>        <th class=\"blank\" ></th>    </tr></thead><tbody>\n",
       "                <tr>\n",
       "                        <th id=\"T_8f73c908_2744_11ea_9d0a_dcfb481d3eb7level0_row0\" class=\"row_heading level0 row0\" >Lisosia93</th>\n",
       "                        <td id=\"T_8f73c908_2744_11ea_9d0a_dcfb481d3eb7row0_col0\" class=\"data row0 col0\" >5</td>\n",
       "                        <td id=\"T_8f73c908_2744_11ea_9d0a_dcfb481d3eb7row0_col1\" class=\"data row0 col1\" >$3.79</td>\n",
       "                        <td id=\"T_8f73c908_2744_11ea_9d0a_dcfb481d3eb7row0_col2\" class=\"data row0 col2\" >$18.96</td>\n",
       "            </tr>\n",
       "            <tr>\n",
       "                        <th id=\"T_8f73c908_2744_11ea_9d0a_dcfb481d3eb7level0_row1\" class=\"row_heading level0 row1\" >Idastidru52</th>\n",
       "                        <td id=\"T_8f73c908_2744_11ea_9d0a_dcfb481d3eb7row1_col0\" class=\"data row1 col0\" >4</td>\n",
       "                        <td id=\"T_8f73c908_2744_11ea_9d0a_dcfb481d3eb7row1_col1\" class=\"data row1 col1\" >$3.86</td>\n",
       "                        <td id=\"T_8f73c908_2744_11ea_9d0a_dcfb481d3eb7row1_col2\" class=\"data row1 col2\" >$15.45</td>\n",
       "            </tr>\n",
       "            <tr>\n",
       "                        <th id=\"T_8f73c908_2744_11ea_9d0a_dcfb481d3eb7level0_row2\" class=\"row_heading level0 row2\" >Chamjask73</th>\n",
       "                        <td id=\"T_8f73c908_2744_11ea_9d0a_dcfb481d3eb7row2_col0\" class=\"data row2 col0\" >3</td>\n",
       "                        <td id=\"T_8f73c908_2744_11ea_9d0a_dcfb481d3eb7row2_col1\" class=\"data row2 col1\" >$4.61</td>\n",
       "                        <td id=\"T_8f73c908_2744_11ea_9d0a_dcfb481d3eb7row2_col2\" class=\"data row2 col2\" >$13.83</td>\n",
       "            </tr>\n",
       "            <tr>\n",
       "                        <th id=\"T_8f73c908_2744_11ea_9d0a_dcfb481d3eb7level0_row3\" class=\"row_heading level0 row3\" >Iral74</th>\n",
       "                        <td id=\"T_8f73c908_2744_11ea_9d0a_dcfb481d3eb7row3_col0\" class=\"data row3 col0\" >4</td>\n",
       "                        <td id=\"T_8f73c908_2744_11ea_9d0a_dcfb481d3eb7row3_col1\" class=\"data row3 col1\" >$3.40</td>\n",
       "                        <td id=\"T_8f73c908_2744_11ea_9d0a_dcfb481d3eb7row3_col2\" class=\"data row3 col2\" >$13.62</td>\n",
       "            </tr>\n",
       "            <tr>\n",
       "                        <th id=\"T_8f73c908_2744_11ea_9d0a_dcfb481d3eb7level0_row4\" class=\"row_heading level0 row4\" >Iskadarya95</th>\n",
       "                        <td id=\"T_8f73c908_2744_11ea_9d0a_dcfb481d3eb7row4_col0\" class=\"data row4 col0\" >3</td>\n",
       "                        <td id=\"T_8f73c908_2744_11ea_9d0a_dcfb481d3eb7row4_col1\" class=\"data row4 col1\" >$4.37</td>\n",
       "                        <td id=\"T_8f73c908_2744_11ea_9d0a_dcfb481d3eb7row4_col2\" class=\"data row4 col2\" >$13.10</td>\n",
       "            </tr>\n",
       "    </tbody></table>"
      ],
      "text/plain": [
       "<pandas.io.formats.style.Styler at 0x1e7369dee48>"
      ]
     },
     "execution_count": 13,
     "metadata": {},
     "output_type": "execute_result"
    }
   ],
   "source": [
    "spender = purchase_data.groupby(\"SN\")\n",
    "\n",
    "purc_spender = spender[\"Purchase ID\"].count()\n",
    "\n",
    "avg_spender = spender[\"Price\"].mean()\n",
    "\n",
    "total_spender = spender[\"Price\"].sum()\n",
    "\n",
    "top_spenders = pd.DataFrame({\"Purchase Count\": purc_spender,\n",
    "                             \"Average Purchase Price\": avg_spender,\n",
    "                             \"Total Purchase Value\":total_spender})\n",
    "\n",
    "formatted_spenders = top_spenders.sort_values([\"Total Purchase Value\"], ascending=False).head()\n",
    "\n",
    "formatted_spenders.style.format({\"Average Purchase Total\":\"${:,.2f}\",\n",
    "                                 \"Average Purchase Price\":\"${:,.2f}\", \n",
    "                                 \"Total Purchase Value\":\"${:,.2f}\"})\n",
    "\n",
    "\n"
   ]
  },
  {
   "cell_type": "markdown",
   "metadata": {},
   "source": [
    "## Most Popular Items"
   ]
  },
  {
   "cell_type": "markdown",
   "metadata": {},
   "source": [
    "* Retrieve the Item ID, Item Name, and Item Price columns\n",
    "\n",
    "\n",
    "* Group by Item ID and Item Name. Perform calculations to obtain purchase count, item price, and total purchase value\n",
    "\n",
    "\n",
    "* Create a summary data frame to hold the results\n",
    "\n",
    "\n",
    "* Sort the purchase count column in descending order\n",
    "\n",
    "\n",
    "* Optional: give the displayed data cleaner formatting\n",
    "\n",
    "\n",
    "* Display a preview of the summary data frame\n",
    "\n"
   ]
  },
  {
   "cell_type": "code",
   "execution_count": 14,
   "metadata": {},
   "outputs": [
    {
     "data": {
      "text/html": [
       "<style  type=\"text/css\" >\n",
       "</style><table id=\"T_911af0be_2744_11ea_9599_dcfb481d3eb7\" ><thead>    <tr>        <th class=\"blank\" ></th>        <th class=\"blank level0\" ></th>        <th class=\"col_heading level0 col0\" >Purchase Count</th>        <th class=\"col_heading level0 col1\" >Item Price</th>        <th class=\"col_heading level0 col2\" >Total Purchase Value</th>    </tr>    <tr>        <th class=\"index_name level0\" >Item ID</th>        <th class=\"index_name level1\" >Item Name</th>        <th class=\"blank\" ></th>        <th class=\"blank\" ></th>        <th class=\"blank\" ></th>    </tr></thead><tbody>\n",
       "                <tr>\n",
       "                        <th id=\"T_911af0be_2744_11ea_9599_dcfb481d3eb7level0_row0\" class=\"row_heading level0 row0\" >178</th>\n",
       "                        <th id=\"T_911af0be_2744_11ea_9599_dcfb481d3eb7level1_row0\" class=\"row_heading level1 row0\" >Oathbreaker, Last Hope of the Breaking Storm</th>\n",
       "                        <td id=\"T_911af0be_2744_11ea_9599_dcfb481d3eb7row0_col0\" class=\"data row0 col0\" >12</td>\n",
       "                        <td id=\"T_911af0be_2744_11ea_9599_dcfb481d3eb7row0_col1\" class=\"data row0 col1\" >$4.23</td>\n",
       "                        <td id=\"T_911af0be_2744_11ea_9599_dcfb481d3eb7row0_col2\" class=\"data row0 col2\" >$50.76</td>\n",
       "            </tr>\n",
       "            <tr>\n",
       "                        <th id=\"T_911af0be_2744_11ea_9599_dcfb481d3eb7level0_row1\" class=\"row_heading level0 row1\" >145</th>\n",
       "                        <th id=\"T_911af0be_2744_11ea_9599_dcfb481d3eb7level1_row1\" class=\"row_heading level1 row1\" >Fiery Glass Crusader</th>\n",
       "                        <td id=\"T_911af0be_2744_11ea_9599_dcfb481d3eb7row1_col0\" class=\"data row1 col0\" >9</td>\n",
       "                        <td id=\"T_911af0be_2744_11ea_9599_dcfb481d3eb7row1_col1\" class=\"data row1 col1\" >$4.58</td>\n",
       "                        <td id=\"T_911af0be_2744_11ea_9599_dcfb481d3eb7row1_col2\" class=\"data row1 col2\" >$41.22</td>\n",
       "            </tr>\n",
       "            <tr>\n",
       "                        <th id=\"T_911af0be_2744_11ea_9599_dcfb481d3eb7level0_row2\" class=\"row_heading level0 row2\" >108</th>\n",
       "                        <th id=\"T_911af0be_2744_11ea_9599_dcfb481d3eb7level1_row2\" class=\"row_heading level1 row2\" >Extraction, Quickblade Of Trembling Hands</th>\n",
       "                        <td id=\"T_911af0be_2744_11ea_9599_dcfb481d3eb7row2_col0\" class=\"data row2 col0\" >9</td>\n",
       "                        <td id=\"T_911af0be_2744_11ea_9599_dcfb481d3eb7row2_col1\" class=\"data row2 col1\" >$3.53</td>\n",
       "                        <td id=\"T_911af0be_2744_11ea_9599_dcfb481d3eb7row2_col2\" class=\"data row2 col2\" >$31.77</td>\n",
       "            </tr>\n",
       "            <tr>\n",
       "                        <th id=\"T_911af0be_2744_11ea_9599_dcfb481d3eb7level0_row3\" class=\"row_heading level0 row3\" >82</th>\n",
       "                        <th id=\"T_911af0be_2744_11ea_9599_dcfb481d3eb7level1_row3\" class=\"row_heading level1 row3\" >Nirvana</th>\n",
       "                        <td id=\"T_911af0be_2744_11ea_9599_dcfb481d3eb7row3_col0\" class=\"data row3 col0\" >9</td>\n",
       "                        <td id=\"T_911af0be_2744_11ea_9599_dcfb481d3eb7row3_col1\" class=\"data row3 col1\" >$4.90</td>\n",
       "                        <td id=\"T_911af0be_2744_11ea_9599_dcfb481d3eb7row3_col2\" class=\"data row3 col2\" >$44.10</td>\n",
       "            </tr>\n",
       "            <tr>\n",
       "                        <th id=\"T_911af0be_2744_11ea_9599_dcfb481d3eb7level0_row4\" class=\"row_heading level0 row4\" >19</th>\n",
       "                        <th id=\"T_911af0be_2744_11ea_9599_dcfb481d3eb7level1_row4\" class=\"row_heading level1 row4\" >Pursuit, Cudgel of Necromancy</th>\n",
       "                        <td id=\"T_911af0be_2744_11ea_9599_dcfb481d3eb7row4_col0\" class=\"data row4 col0\" >8</td>\n",
       "                        <td id=\"T_911af0be_2744_11ea_9599_dcfb481d3eb7row4_col1\" class=\"data row4 col1\" >$1.02</td>\n",
       "                        <td id=\"T_911af0be_2744_11ea_9599_dcfb481d3eb7row4_col2\" class=\"data row4 col2\" >$8.16</td>\n",
       "            </tr>\n",
       "    </tbody></table>"
      ],
      "text/plain": [
       "<pandas.io.formats.style.Styler at 0x1e737205048>"
      ]
     },
     "execution_count": 14,
     "metadata": {},
     "output_type": "execute_result"
    }
   ],
   "source": [
    "items = purchase_data[[\"Item ID\", \"Item Name\", \"Price\"]]\n",
    "\n",
    "grouped_items = items.groupby([\"Item ID\", \"Item Name\"])\n",
    "\n",
    "purchase_count_item = grouped_items[\"Item Name\"].count()\n",
    "\n",
    "purchase_value = grouped_items[\"Price\"].sum()\n",
    "\n",
    "item_price = purchase_value / purchase_count_item\n",
    "\n",
    "most_popular_items = pd.DataFrame({\"Purchase Count\": purchase_count_item, \n",
    "                                   \"Item Price\": item_price,\n",
    "                                   \"Total Purchase Value\":purchase_value})\n",
    "\n",
    "\n",
    "popular_formatted = most_popular_items.sort_values([\"Purchase Count\"], ascending=False).head()\n",
    "\n",
    "# Format with currency style\n",
    "popular_formatted.style.format({\"Item Price\":\"${:,.2f}\",\n",
    "                                \"Total Purchase Value\":\"${:,.2f}\"})\n"
   ]
  },
  {
   "cell_type": "markdown",
   "metadata": {},
   "source": [
    "## Most Profitable Items"
   ]
  },
  {
   "cell_type": "markdown",
   "metadata": {},
   "source": [
    "* Sort the above table by total purchase value in descending order\n",
    "\n",
    "\n",
    "* Optional: give the displayed data cleaner formatting\n",
    "\n",
    "\n",
    "* Display a preview of the data frame\n",
    "\n"
   ]
  },
  {
   "cell_type": "code",
   "execution_count": 15,
   "metadata": {
    "scrolled": true
   },
   "outputs": [
    {
     "data": {
      "text/html": [
       "<style  type=\"text/css\" >\n",
       "</style><table id=\"T_929c6c00_2744_11ea_b276_dcfb481d3eb7\" ><thead>    <tr>        <th class=\"blank\" ></th>        <th class=\"blank level0\" ></th>        <th class=\"col_heading level0 col0\" >Purchase Count</th>        <th class=\"col_heading level0 col1\" >Item Price</th>        <th class=\"col_heading level0 col2\" >Total Purchase Value</th>    </tr>    <tr>        <th class=\"index_name level0\" >Item ID</th>        <th class=\"index_name level1\" >Item Name</th>        <th class=\"blank\" ></th>        <th class=\"blank\" ></th>        <th class=\"blank\" ></th>    </tr></thead><tbody>\n",
       "                <tr>\n",
       "                        <th id=\"T_929c6c00_2744_11ea_b276_dcfb481d3eb7level0_row0\" class=\"row_heading level0 row0\" >178</th>\n",
       "                        <th id=\"T_929c6c00_2744_11ea_b276_dcfb481d3eb7level1_row0\" class=\"row_heading level1 row0\" >Oathbreaker, Last Hope of the Breaking Storm</th>\n",
       "                        <td id=\"T_929c6c00_2744_11ea_b276_dcfb481d3eb7row0_col0\" class=\"data row0 col0\" >12</td>\n",
       "                        <td id=\"T_929c6c00_2744_11ea_b276_dcfb481d3eb7row0_col1\" class=\"data row0 col1\" >$4.23</td>\n",
       "                        <td id=\"T_929c6c00_2744_11ea_b276_dcfb481d3eb7row0_col2\" class=\"data row0 col2\" >$50.76</td>\n",
       "            </tr>\n",
       "            <tr>\n",
       "                        <th id=\"T_929c6c00_2744_11ea_b276_dcfb481d3eb7level0_row1\" class=\"row_heading level0 row1\" >82</th>\n",
       "                        <th id=\"T_929c6c00_2744_11ea_b276_dcfb481d3eb7level1_row1\" class=\"row_heading level1 row1\" >Nirvana</th>\n",
       "                        <td id=\"T_929c6c00_2744_11ea_b276_dcfb481d3eb7row1_col0\" class=\"data row1 col0\" >9</td>\n",
       "                        <td id=\"T_929c6c00_2744_11ea_b276_dcfb481d3eb7row1_col1\" class=\"data row1 col1\" >$4.90</td>\n",
       "                        <td id=\"T_929c6c00_2744_11ea_b276_dcfb481d3eb7row1_col2\" class=\"data row1 col2\" >$44.10</td>\n",
       "            </tr>\n",
       "            <tr>\n",
       "                        <th id=\"T_929c6c00_2744_11ea_b276_dcfb481d3eb7level0_row2\" class=\"row_heading level0 row2\" >145</th>\n",
       "                        <th id=\"T_929c6c00_2744_11ea_b276_dcfb481d3eb7level1_row2\" class=\"row_heading level1 row2\" >Fiery Glass Crusader</th>\n",
       "                        <td id=\"T_929c6c00_2744_11ea_b276_dcfb481d3eb7row2_col0\" class=\"data row2 col0\" >9</td>\n",
       "                        <td id=\"T_929c6c00_2744_11ea_b276_dcfb481d3eb7row2_col1\" class=\"data row2 col1\" >$4.58</td>\n",
       "                        <td id=\"T_929c6c00_2744_11ea_b276_dcfb481d3eb7row2_col2\" class=\"data row2 col2\" >$41.22</td>\n",
       "            </tr>\n",
       "            <tr>\n",
       "                        <th id=\"T_929c6c00_2744_11ea_b276_dcfb481d3eb7level0_row3\" class=\"row_heading level0 row3\" >92</th>\n",
       "                        <th id=\"T_929c6c00_2744_11ea_b276_dcfb481d3eb7level1_row3\" class=\"row_heading level1 row3\" >Final Critic</th>\n",
       "                        <td id=\"T_929c6c00_2744_11ea_b276_dcfb481d3eb7row3_col0\" class=\"data row3 col0\" >8</td>\n",
       "                        <td id=\"T_929c6c00_2744_11ea_b276_dcfb481d3eb7row3_col1\" class=\"data row3 col1\" >$4.88</td>\n",
       "                        <td id=\"T_929c6c00_2744_11ea_b276_dcfb481d3eb7row3_col2\" class=\"data row3 col2\" >$39.04</td>\n",
       "            </tr>\n",
       "            <tr>\n",
       "                        <th id=\"T_929c6c00_2744_11ea_b276_dcfb481d3eb7level0_row4\" class=\"row_heading level0 row4\" >103</th>\n",
       "                        <th id=\"T_929c6c00_2744_11ea_b276_dcfb481d3eb7level1_row4\" class=\"row_heading level1 row4\" >Singed Scalpel</th>\n",
       "                        <td id=\"T_929c6c00_2744_11ea_b276_dcfb481d3eb7row4_col0\" class=\"data row4 col0\" >8</td>\n",
       "                        <td id=\"T_929c6c00_2744_11ea_b276_dcfb481d3eb7row4_col1\" class=\"data row4 col1\" >$4.35</td>\n",
       "                        <td id=\"T_929c6c00_2744_11ea_b276_dcfb481d3eb7row4_col2\" class=\"data row4 col2\" >$34.80</td>\n",
       "            </tr>\n",
       "    </tbody></table>"
      ],
      "text/plain": [
       "<pandas.io.formats.style.Styler at 0x1e7373ba188>"
      ]
     },
     "execution_count": 15,
     "metadata": {},
     "output_type": "execute_result"
    }
   ],
   "source": [
    "popular_formatted = most_popular_items.sort_values([\"Total Purchase Value\"],\n",
    "                                                   ascending=False).head()\n",
    "popular_formatted.style.format({\"Item Price\":\"${:,.2f}\",\n",
    "                                \"Total Purchase Value\":\"${:,.2f}\"})"
   ]
  }
 ],
 "metadata": {
  "anaconda-cloud": {},
  "kernel_info": {
   "name": "python3"
  },
  "kernelspec": {
   "display_name": "Python 3",
   "language": "python",
   "name": "python3"
  },
  "language_info": {
   "codemirror_mode": {
    "name": "ipython",
    "version": 3
   },
   "file_extension": ".py",
   "mimetype": "text/x-python",
   "name": "python",
   "nbconvert_exporter": "python",
   "pygments_lexer": "ipython3",
   "version": "3.7.4"
  },
  "latex_envs": {
   "LaTeX_envs_menu_present": true,
   "autoclose": false,
   "autocomplete": true,
   "bibliofile": "biblio.bib",
   "cite_by": "apalike",
   "current_citInitial": 1,
   "eqLabelWithNumbers": true,
   "eqNumInitial": 1,
   "hotkeys": {
    "equation": "Ctrl-E",
    "itemize": "Ctrl-I"
   },
   "labels_anchors": false,
   "latex_user_defs": false,
   "report_style_numbering": false,
   "user_envs_cfg": false
  },
  "nteract": {
   "version": "0.2.0"
  }
 },
 "nbformat": 4,
 "nbformat_minor": 2
}
